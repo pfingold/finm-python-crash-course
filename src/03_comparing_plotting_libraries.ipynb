{
 "cells": [
  {
   "cell_type": "markdown",
   "metadata": {},
   "source": [
    "# 4.2 Comparing Plotting Libraries and Declarative Visualizations"
   ]
  },
  {
   "cell_type": "code",
   "execution_count": 2,
   "metadata": {},
   "outputs": [],
   "source": [
    "from plotnine import *\n",
    "from matplotlib import pyplot as plt\n",
    "from plotnine import data\n",
    "import plotly.express as px\n",
    "import seaborn as sns"
   ]
  },
  {
   "cell_type": "markdown",
   "metadata": {},
   "source": []
  },
  {
   "cell_type": "code",
   "execution_count": 3,
   "metadata": {},
   "outputs": [],
   "source": [
    "mpg = data.mpg"
   ]
  },
  {
   "cell_type": "markdown",
   "metadata": {},
   "source": [
    "## Bar Chart"
   ]
  },
  {
   "cell_type": "code",
   "execution_count": null,
   "metadata": {},
   "outputs": [],
   "source": [
    "mpg"
   ]
  },
  {
   "cell_type": "code",
   "execution_count": null,
   "metadata": {},
   "outputs": [],
   "source": [
    "# Pandas\n",
    "(mpg['manufacturer']\n",
    " .value_counts(sort=False)\n",
    " .plot.barh()\n",
    " .set_title('Number of Cars by Make')\n",
    ")"
   ]
  },
  {
   "cell_type": "code",
   "execution_count": null,
   "metadata": {},
   "outputs": [],
   "source": [
    "# Plotnine (ggplot2 clone)\n",
    "(ggplot(mpg) + \n",
    "   aes(x='manufacturer') +\n",
    "   geom_bar() + \n",
    "   coord_flip() +\n",
    "   ggtitle('Number of Cars by Make')\n",
    ")"
   ]
  },
  {
   "cell_type": "code",
   "execution_count": null,
   "metadata": {},
   "outputs": [],
   "source": [
    "fig = px.bar(\n",
    "    mpg.groupby('manufacturer', observed=False).size().reset_index(name='count'),\n",
    "    x='count',\n",
    "    y='manufacturer',\n",
    "    orientation='h',\n",
    "    title='Number of Cars by Make',\n",
    ")\n",
    "\n",
    "fig"
   ]
  },
  {
   "cell_type": "markdown",
   "metadata": {},
   "source": [
    "## Scatter Plot"
   ]
  },
  {
   "cell_type": "code",
   "execution_count": null,
   "metadata": {},
   "outputs": [],
   "source": [
    "(mpg.\n",
    "    plot.\n",
    "    scatter(x='displ', y='hwy'))"
   ]
  },
  {
   "cell_type": "code",
   "execution_count": null,
   "metadata": {},
   "outputs": [],
   "source": [
    "mpg"
   ]
  },
  {
   "cell_type": "code",
   "execution_count": null,
   "metadata": {},
   "outputs": [],
   "source": [
    "(mpg\n",
    " .plot\n",
    " .scatter(x='displ', y='hwy')\n",
    " .set(title='Engine Displacement in Liters vs Highway MPG',\n",
    "      xlabel='Engine Displacement in Liters',\n",
    "      ylabel='Highway MPG'));"
   ]
  },
  {
   "cell_type": "code",
   "execution_count": null,
   "metadata": {},
   "outputs": [],
   "source": [
    "(ggplot(mpg) +\n",
    "    aes(x = 'displ', y = 'hwy') +\n",
    "    geom_point() + \n",
    "    ggtitle('Engine Displacement in Liters vs Highway MPG') +\n",
    "    xlab('Engine Displacement in Liters') +\n",
    "    ylab('Highway MPG')\n",
    ")"
   ]
  },
  {
   "cell_type": "code",
   "execution_count": null,
   "metadata": {},
   "outputs": [],
   "source": [
    "fig = px.scatter(\n",
    "    mpg,\n",
    "    x='displ',\n",
    "    y='hwy',\n",
    "    title='Engine Displacement in Liters vs Highway MPG',\n",
    "    labels={\n",
    "        'displ': 'Engine Displacement in Liters',\n",
    "        'hwy': 'Highway MPG'\n",
    "    }\n",
    ")\n",
    "\n",
    "fig.show()"
   ]
  },
  {
   "cell_type": "markdown",
   "metadata": {},
   "source": [
    "## Scatter Plot, Faceted with Color"
   ]
  },
  {
   "cell_type": "code",
   "execution_count": null,
   "metadata": {},
   "outputs": [],
   "source": [
    "for c, df in mpg.groupby('class'):\n",
    "    plt.scatter(df['displ'], df['hwy'], label=c)\n"
   ]
  },
  {
   "cell_type": "code",
   "execution_count": null,
   "metadata": {},
   "outputs": [],
   "source": [
    "fig, ax = plt.subplots()\n",
    "for c, df in mpg.groupby('class'):\n",
    "    plt.scatter(df['displ'], df['hwy'], label=c)"
   ]
  },
  {
   "cell_type": "code",
   "execution_count": null,
   "metadata": {},
   "outputs": [],
   "source": [
    "fig, ax = plt.subplots()\n",
    "for c, df in mpg.groupby('class'):\n",
    "    ax.scatter(df['displ'], df['hwy'], label=c)\n",
    "ax.legend()\n",
    "ax.set_title('Engine Displacement in Liters vs Highway MPG')\n",
    "ax.set_xlabel('Engine Displacement in Liters')\n",
    "ax.set_ylabel('Highway MPG')"
   ]
  },
  {
   "cell_type": "code",
   "execution_count": null,
   "metadata": {},
   "outputs": [],
   "source": [
    "(sns\n",
    " .FacetGrid(mpg, hue='class', height=5)\n",
    " .map(plt.scatter, 'displ', 'hwy')\n",
    " .add_legend()\n",
    " .set(\n",
    "    title='Engine Displacement in Liters vs Highway MPG',\n",
    "    xlabel='Engine Displacement in Liters',\n",
    "    ylabel='Highway MPG'\n",
    "))"
   ]
  },
  {
   "cell_type": "code",
   "execution_count": null,
   "metadata": {},
   "outputs": [],
   "source": [
    "(ggplot(mpg) + \n",
    "    aes(x = 'displ', y = 'hwy', color = 'class') +\n",
    "    geom_point() + \n",
    "    ggtitle('Engine Displacement in Liters vs Highway MPG') +\n",
    "    xlab('Engine Displacement in Liters') +\n",
    "    ylab('Highway MPG'))"
   ]
  },
  {
   "cell_type": "code",
   "execution_count": null,
   "metadata": {},
   "outputs": [],
   "source": [
    "fig = px.scatter(\n",
    "    mpg,\n",
    "    x='displ',\n",
    "    y='hwy',\n",
    "    color='class',\n",
    "    title='Engine Displacement in Liters vs Highway MPG',\n",
    "    labels={\n",
    "        'displ': 'Engine Displacement in Liters',\n",
    "        'hwy': 'Highway MPG',\n",
    "        'class': 'Vehicle Class'\n",
    "    }\n",
    ")\n",
    "\n",
    "fig.show()"
   ]
  }
 ],
 "metadata": {
  "kernelspec": {
   "display_name": "finm",
   "language": "python",
   "name": "python3"
  },
  "language_info": {
   "codemirror_mode": {
    "name": "ipython",
    "version": 3
   },
   "file_extension": ".py",
   "mimetype": "text/x-python",
   "name": "python",
   "nbconvert_exporter": "python",
   "pygments_lexer": "ipython3",
   "version": "3.12.11"
  }
 },
 "nbformat": 4,
 "nbformat_minor": 2
}
